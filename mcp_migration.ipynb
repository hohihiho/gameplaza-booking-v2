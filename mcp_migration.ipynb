{
 "cells": [
  {
   "cell_type": "markdown",
   "metadata": {},
   "source": [
    "# GamePlaza V2 Supabase MCP 마이그레이션\n",
    "## Context7과 함께 설치한 Supabase MCP 서버 사용"
   ]
  },
  {
   "cell_type": "code",
   "execution_count": null,
   "metadata": {},
   "outputs": [],
   "source": [
    "# Supabase MCP를 통한 데이터베이스 연결 테스트\n",
    "print(\"🎮 Supabase MCP 연결 테스트...\")\n",
    "\n",
    "# 기본 연결 확인\n",
    "test_query = \"SELECT current_database(), current_user, version();\"\n",
    "print(f\"테스트 쿼리: {test_query}\")"
   ]
  },
  {
   "cell_type": "code",
   "execution_count": null,
   "metadata": {},
   "outputs": [],
   "source": [
    "# 첫 번째 테이블 생성 - Users\n",
    "print(\"👤 Users 테이블 생성 중...\")\n",
    "\n",
    "users_sql = \"\"\"\n",
    "CREATE TABLE IF NOT EXISTS users (\n",
    "  id UUID PRIMARY KEY DEFAULT auth.uid(),\n",
    "  email VARCHAR(255) UNIQUE NOT NULL,\n",
    "  name VARCHAR(100) NOT NULL,\n",
    "  phone VARCHAR(20),\n",
    "  nickname VARCHAR(50),\n",
    "  role VARCHAR(20) DEFAULT 'user' CHECK (role IN ('user', 'staff', 'admin')),\n",
    "  is_blacklisted BOOLEAN DEFAULT false,\n",
    "  blacklist_reason TEXT,\n",
    "  created_at TIMESTAMP WITH TIME ZONE DEFAULT NOW(),\n",
    "  updated_at TIMESTAMP WITH TIME ZONE DEFAULT NOW(),\n",
    "  last_login_at TIMESTAMP WITH TIME ZONE\n",
    ");\n",
    "\"\"\"\n",
    "\n",
    "print(\"SQL 준비 완료\")\n",
    "print(users_sql)"
   ]
  },
  {
   "cell_type": "code",
   "execution_count": null,
   "metadata": {},
   "outputs": [],
   "source": [
    "# 나머지 모든 테이블 생성\n",
    "print(\"🔧 전체 스키마 생성 중...\")\n",
    "\n",
    "# SQL 파일 읽기\n",
    "with open('supabase/migrations/001_create_schema.sql', 'r', encoding='utf-8') as f:\n",
    "    full_schema = f.read()\n",
    "\n",
    "print(f\"📄 전체 스키마 로드 완료 ({len(full_schema)} 글자)\")\n",
    "print(\"첫 500글자:\")\n",
    "print(full_schema[:500])"
   ]
  }
 ],
 "metadata": {
  "kernelspec": {
   "display_name": "Python 3",
   "language": "python",
   "name": "python3"
  },
  "language_info": {
   "codemirror_mode": {
    "name": "ipython",
    "version": 3
   },
   "file_extension": ".py",
   "mimetype": "text/x-python",
   "name": "python",
   "nbconvert_exporter": "python",
   "pygments_lexer": "ipython3",
   "version": "3.8.5"
  }
 },
 "nbformat": 4,
 "nbformat_minor": 4
}